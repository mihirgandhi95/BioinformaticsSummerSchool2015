{
 "cells": [
  {
   "cell_type": "markdown",
   "metadata": {},
   "source": [
    "# Exercice 1"
   ]
  },
  {
   "cell_type": "code",
   "execution_count": 1,
   "metadata": {
    "collapsed": false
   },
   "outputs": [
    {
     "name": "stdout",
     "output_type": "stream",
     "text": [
      "Enter your DNA ACGTA\n",
      "ACGUA\n"
     ]
    }
   ],
   "source": [
    "dna = raw_input(\"Enter your DNA \")\n",
    "rna = \"\"\n",
    "for i in range(0,len(dna)):\n",
    "    if (dna[i] is \"T\"):\n",
    "        rna = rna + \"U\"\n",
    "    else:\n",
    "        rna = rna + dna[i]\n",
    "print rna"
   ]
  },
  {
   "cell_type": "markdown",
   "metadata": {},
   "source": [
    "# Exercice 2"
   ]
  },
  {
   "cell_type": "code",
   "execution_count": 2,
   "metadata": {
    "collapsed": false
   },
   "outputs": [
    {
     "name": "stdout",
     "output_type": "stream",
     "text": [
      "Enter you dna ACGTA\n",
      "ACGTA\n",
      "TACGT\n"
     ]
    }
   ],
   "source": [
    "def reverse_complement(dna):\n",
    "    comp = \"\"\n",
    "    for i in range(0,len(dna)):\n",
    "        symbol = dna[i]\n",
    "        if (symbol is \"A\"):\n",
    "            symbol = \"T\"\n",
    "        else:\n",
    "            if (symbol is \"T\"):\n",
    "                symbol = \"A\"\n",
    "            else:\n",
    "                if (symbol is \"C\"):\n",
    "                    symbol = \"G\"\n",
    "                else:\n",
    "                    symbol = \"C\"\n",
    "        comp = symbol + comp\n",
    "    return comp\n",
    "\n",
    "ch = raw_input(\"Enter you dna \")\n",
    "print dna\n",
    "print reverse_complement(dna)\n"
   ]
  },
  {
   "cell_type": "markdown",
   "metadata": {},
   "source": [
    "# Exercice 3"
   ]
  },
  {
   "cell_type": "code",
   "execution_count": 9,
   "metadata": {
    "collapsed": false
   },
   "outputs": [
    {
     "name": "stdout",
     "output_type": "stream",
     "text": [
      "Maximum in year 38\n",
      "Pic in year  3\n",
      "Pic in year  6\n",
      "Pic in year  9\n",
      "Pic in year  11\n",
      "Pic in year  13\n",
      "Pic in year  17\n",
      "Pic in year  20\n",
      "Pic in year  23\n",
      "Pic in year  26\n",
      "Pic in year  30\n",
      "Pic in year  32\n",
      "Pic in year  34\n",
      "Pic in year  36\n",
      "Pic in year  38\n"
     ]
    }
   ],
   "source": [
    "T=[10,35,82,60,80,105,100,120,146,122,151,133,146,140,112,87,95,58,41,64,20,15,41,30,44,84,78,82,94,158,140,150,142,171,160,198,159,216,200,196]\n",
    "# Maximum\n",
    "imax = 0\n",
    "for i in range(1,len(T)):\n",
    "    if (T[i]>T[imax]):\n",
    "        imax = i\n",
    "print \"Maximum in year\", (imax+1)\n",
    "# peaks\n",
    "for i in range(1,len(T)-1):\n",
    "    if (T[i]>T[i-1] and T[i]>T[i+1]):\n",
    "        print \"Peak in year\",(i+1)\n"
   ]
  },
  {
   "cell_type": "markdown",
   "metadata": {},
   "source": [
    "# Exercice 4"
   ]
  },
  {
   "cell_type": "code",
   "execution_count": 13,
   "metadata": {
    "collapsed": false
   },
   "outputs": [
    {
     "name": "stdout",
     "output_type": "stream",
     "text": [
      "Correlation is 0.947866557768\n"
     ]
    }
   ],
   "source": [
    "import math\n",
    "def correlation(T):\n",
    "    Sxy = 0\n",
    "    Sx2 = 0\n",
    "    Sy2 = 0\n",
    "    for i in range(0,len(T)):\n",
    "        Sxy = Sxy + T[i][0]*T[i][1]\n",
    "        Sx2 = Sx2 + T[i][0]*T[i][0]\n",
    "        Sy2 = Sy2 + T[i][1]*T[i][1]\n",
    "    return Sxy/math.sqrt(Sx2*Sy2)\n",
    "\n",
    "\n",
    "T=[[0,0.04],[0,0.02],[30,0],[40,0.02],[80,0.12],[100,0.08],[120,0.06],[120,0.15],[140,0.16],[150,0.11],[170,0.17],[180,0.12]]\n",
    "print \"Correlation is\", correlation(T)"
   ]
  },
  {
   "cell_type": "markdown",
   "metadata": {},
   "source": [
    "# Exercice 5"
   ]
  },
  {
   "cell_type": "code",
   "execution_count": 14,
   "metadata": {
    "collapsed": false
   },
   "outputs": [
    {
     "data": {
      "image/png": "[encoded data removed]",
      "text/plain": [
       "<matplotlib.figure.Figure at 0x7f8a344e4710>"
      ]
     },
     "metadata": {},
     "output_type": "display_data"
    }
   ],
   "source": [
    "X=range(20)\n",
    "X[0]=1\n",
    "X[1]=1\n",
    "for i in range(1,19):\n",
    "    X[i+1] = X[i]+X[i-1]\n",
    "\n",
    "import matplotlib.pyplot as plt\n",
    "%matplotlib inline\n",
    "plt.plot(X)\n",
    "plt.show()"
   ]
  },
  {
   "cell_type": "markdown",
   "metadata": {},
   "source": [
    "# Exercice 6"
   ]
  },
  {
   "cell_type": "code",
   "execution_count": 1,
   "metadata": {
    "collapsed": false
   },
   "outputs": [
    {
     "data": {
      "image/png": "[encoded data removed]",
      "text/plain": [
       "<matplotlib.figure.Figure at 0x1071f7f10>"
      ]
     },
     "metadata": {},
     "output_type": "display_data"
    },
    {
     "data": {
      "image/png": "[encoded data removed]",
      "text/plain": [
       "<matplotlib.figure.Figure at 0x107337a50>"
      ]
     },
     "metadata": {},
     "output_type": "display_data"
    }
   ],
   "source": [
    "n=1000\n",
    "X=range(n)\n",
    "Y=range(n)\n",
    "X[0]=2\n",
    "Y[0]=3\n",
    "for i in range(1,n):\n",
    "    vx = 0.01 - 0.02 * Y[i-1]\n",
    "    vy = 0.03 * X[i-1] - 0.04\n",
    "    X[i] = X[i-1]*(1+vx)\n",
    "    Y[i] = Y[i-1]*(1+vy)\n",
    "import matplotlib.pyplot as plt\n",
    "%matplotlib inline\n",
    "plt.plot(X)\n",
    "plt.plot(Y)\n",
    "plt.show()\n",
    "plt.plot(X,Y)\n",
    "plt.show()"
   ]
  },
  {
   "cell_type": "markdown",
   "metadata": {},
   "source": [
    "# Exercice 7"
   ]
  },
  {
   "cell_type": "code",
   "execution_count": 3,
   "metadata": {
    "collapsed": false
   },
   "outputs": [
    {
     "name": "stdout",
     "output_type": "stream",
     "text": [
      "Enter you dna ACGTACT\n",
      "0.428571428571\n"
     ]
    }
   ],
   "source": [
    "def GCcontent(dna):\n",
    "    gc=0\n",
    "    for i in range(0,len(dna)):\n",
    "        if ((dna[i] is \"G\") or (dna[i] is \"C\")):\n",
    "            gc=gc+1\n",
    "    if (len(dna)>0):\n",
    "        return gc/(1.0*len(dna))\n",
    "    else:\n",
    "        return 0\n",
    "    \n",
    "ch = raw_input(\"Enter you dna \")\n",
    "print GCcontent(ch)"
   ]
  },
  {
   "cell_type": "markdown",
   "metadata": {},
   "source": [
    "# Exercice 8"
   ]
  },
  {
   "cell_type": "code",
   "execution_count": 31,
   "metadata": {
    "collapsed": false
   },
   "outputs": [
    {
     "name": "stdout",
     "output_type": "stream",
     "text": [
      "ACTAATGA\n",
      "ACAATGAC\n",
      "Hamming 5\n",
      "Levenshtein 2\n"
     ]
    }
   ],
   "source": [
    "def DistanceH(ch1,ch2):\n",
    "    res = 0\n",
    "    for i in range(0,len(ch1)):\n",
    "        if (ch1[i] is not ch2[i]):\n",
    "            res=res+1\n",
    "    return res\n",
    "print \"ACTAATGA\"\n",
    "print \"ACAATGAC\"\n",
    "print \"Hamming\",DistanceH(\"ACTAATGA\",\"ACAATGAC\")\n",
    "\n",
    "def DistanceL(ch1,ch2):\n",
    "    #initialisation\n",
    "    res = [[0 for x in range(0,len(ch1)+1)] for y in range(0,len(ch2)+1)]\n",
    "    for i in range(0,len(ch1)+1):\n",
    "        res[0][i]=i\n",
    "    for j in range(0,len(ch2)+1):\n",
    "        res[j][0]=j\n",
    "    \n",
    "    #update\n",
    "    for j in range(1,len(ch2)+1):\n",
    "        for i in range(1,len(ch1)+1):\n",
    "            if (ch1[i-1] is ch2[j-1]):\n",
    "                cost = 0\n",
    "            else:\n",
    "                cost = 1\n",
    "            res[j][i]=min(res[j-1][i]+1,res[j][i-1]+1,res[j-1][i-1]+cost)\n",
    "    return res[len(ch2)][len(ch1)]\n",
    "\n",
    "print \"Levenshtein\",DistanceL(\"ACTAATGA\",\"ACAATGAC\")\n",
    "\n"
   ]
  },
  {
   "cell_type": "markdown",
   "metadata": {},
   "source": [
    "# Exercice 9"
   ]
  },
  {
   "cell_type": "code",
   "execution_count": 24,
   "metadata": {
    "collapsed": false
   },
   "outputs": [],
   "source": []
  },
  {
   "cell_type": "code",
   "execution_count": null,
   "metadata": {
    "collapsed": false
   },
   "outputs": [],
   "source": []
  }
 ],
 "metadata": {
  "kernelspec": {
   "display_name": "Python 2",
   "language": "python",
   "name": "python2"
  },
  "language_info": {
   "codemirror_mode": {
    "name": "ipython",
    "version": 2
   },
   "file_extension": ".py",
   "mimetype": "text/x-python",
   "name": "python",
   "nbconvert_exporter": "python",
   "pygments_lexer": "ipython2",
   "version": "2.7.6"
  }
 },
 "nbformat": 4,
 "nbformat_minor": 0
}
